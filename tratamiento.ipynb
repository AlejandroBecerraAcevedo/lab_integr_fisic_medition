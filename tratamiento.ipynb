{
 "cells": [
  {
   "cell_type": "code",
   "execution_count": 1,
   "metadata": {},
   "outputs": [],
   "source": [
    "# grafic histogram\n",
    "import matplotlib.pyplot as plt\n",
    "import pandas as pd"
   ]
  },
  {
   "cell_type": "code",
   "execution_count": 2,
   "metadata": {},
   "outputs": [
    {
     "name": "stdout",
     "output_type": "stream",
     "text": [
      "    0  1  2  3  4  5  6  7  8\n",
      "0   1  2  3  3  4  6  6  2  4\n",
      "1   4  5  6  3  6  4  6  3  2\n",
      "2   5  1  5  5  5  3  5  3  6\n",
      "3   1  1  4  2  2  4  1  4  1\n",
      "4   3  2  6  5  5  2  6  3  5\n",
      "5   1  2  1  2  1  2  4  6  1\n",
      "6   2  4  3  6  1  5  6  6  6\n",
      "7   1  2  1  1  3  5  2  4  2\n",
      "8   5  1  1  6  5  4  4  6  6\n",
      "9   1  3  3  1  2  2  3  2  5\n",
      "10  2  3  5  6  1  2  3  6  6\n",
      "11  2  5  4  2  2  6  2  5  3\n",
      "12  4  2  3  4  2  6  1  1  6\n",
      "13  3  5  5  4  5  5  6  2  2\n",
      "14  1  5  2  2  3  3  4  3  1\n",
      "15  4  1  3  6  5  1  5  3  6\n",
      "16  4  4  2  4  4  1  4  4  3\n",
      "17  6  6  1  3  2  1  6  4  5\n",
      "18  2  3  6  2  5  3  3  3  5\n",
      "19  6  5  4  2  4  2  2  3  1\n",
      "0     2\n",
      "1     2\n",
      "2     0\n",
      "3     3\n",
      "4     0\n",
      "5     1\n",
      "6     1\n",
      "7     1\n",
      "8     2\n",
      "9     0\n",
      "10    0\n",
      "11    1\n",
      "12    2\n",
      "13    1\n",
      "14    1\n",
      "15    1\n",
      "16    6\n",
      "17    1\n",
      "18    0\n",
      "19    2\n",
      "dtype: int64\n",
      "Esta es la media probabilística:  1.5\n",
      "Esta es la desviación estándar:  1.118033988749895\n",
      "Esta es la media probabilística total:  1.0\n",
      "Esta es la desviación estándar total:  0.9746794344808963\n"
     ]
    },
    {
     "data": {
      "image/png": "[encoded data removed]",
      "text/plain": [
       "<Figure size 640x480 with 1 Axes>"
      ]
     },
     "metadata": {},
     "output_type": "display_data"
    }
   ],
   "source": [
    "path = './dados.csv'\n",
    "\n",
    "data = pd.read_csv(path, header=None, index_col=False)\n",
    "print(data)\n",
    "\n",
    "# count dataframe rows number how many  times the number 4 appears in the dataframe and print each row\n",
    "counts = data == 4\n",
    "print(counts.sum(axis=1))\n",
    "\n",
    "desviacion = (9 * (1/6) * (1 - (1/6))) ** 0.5\n",
    "print(\"Esta es la media probabilística: \", 9/6)\n",
    "print(\"Esta es la desviación estándar: \", desviacion)\n",
    "\n",
    "\n",
    "desviacion_total = ((20 * 0.05) * (1 - 0.05)) ** 0.5\n",
    "print(\"Esta es la media probabilística total: \", 20 * 0.05)\n",
    "print(\"Esta es la desviación estándar total: \", desviacion_total)\n",
    "\n",
    "\n",
    "fig, ax = plt.subplots()\n",
    "\n",
    "ax.hist(counts.sum(axis=1), bins=range(1, 11), align='left', rwidth=0.8)\n",
    "plt.show()\n",
    "\n",
    "prob = counts.sum(axis=1) / data.shape[1]"
   ]
  },
  {
   "cell_type": "code",
   "execution_count": null,
   "metadata": {},
   "outputs": [],
   "source": []
  }
 ],
 "metadata": {
  "kernelspec": {
   "display_name": "Python 3",
   "language": "python",
   "name": "python3"
  },
  "language_info": {
   "codemirror_mode": {
    "name": "ipython",
    "version": 3
   },
   "file_extension": ".py",
   "mimetype": "text/x-python",
   "name": "python",
   "nbconvert_exporter": "python",
   "pygments_lexer": "ipython3",
   "version": "3.12.5"
  }
 },
 "nbformat": 4,
 "nbformat_minor": 2
}
